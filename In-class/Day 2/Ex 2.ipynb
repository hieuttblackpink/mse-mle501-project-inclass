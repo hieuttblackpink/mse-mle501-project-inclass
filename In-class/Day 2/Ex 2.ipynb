{
  "cells": [
    {
      "cell_type": "markdown",
      "metadata": {
        "id": "wm7e-IuwZlfd"
      },
      "source": [
        "# **MACHINE LEARNING**\n",
        "## **MLE501**\n",
        "### **DAY 2 - EXAMPLE 2**"
      ]
    },
    {
      "cell_type": "code",
      "execution_count": null,
      "metadata": {
        "id": "xHBjt_mjTsax"
      },
      "outputs": [],
      "source": [
        "# Import section\n",
        "import numpy as np\n",
        "import matplotlib.pyplot as plt"
      ]
    },
    {
      "cell_type": "markdown",
      "metadata": {
        "id": "0P88sXvSaOZa"
      },
      "source": [
        "Step 1: Generate some sample data (e.g., house prices vs square footage)"
      ]
    },
    {
      "cell_type": "code",
      "execution_count": null,
      "metadata": {
        "id": "EHo7XnBOaMMk"
      },
      "outputs": [],
      "source": [
        "np.random.seed(42)\n",
        "X = 2 * np.random.rand(100, 1) # 100 random points for input feature\n",
        "y = 4 + 3 * X + np.random.randn(100, 1) # Linear relationship with noise y = 4 + 3X + noise"
      ]
    },
    {
      "cell_type": "markdown",
      "metadata": {
        "id": "vSQWCZbtdXbq"
      },
      "source": [
        "Step 2: Initialize parameters (weight and bias)"
      ]
    },
    {
      "cell_type": "code",
      "execution_count": null,
      "metadata": {
        "id": "qj7-e9dadjZj"
      },
      "outputs": [],
      "source": [
        "w = np.random.randn(1) # Random initial weight\n",
        "b = np.random.randn(1) # Random initial bias\n",
        "learning_rate = 0.01 # Learning rate\n",
        "num_epochs = 1000 # Number of iterations for training"
      ]
    },
    {
      "cell_type": "markdown",
      "metadata": {
        "id": "WM5y7XhXg4Uk"
      },
      "source": [
        "Step 3: Define the linear regression model"
      ]
    },
    {
      "cell_type": "code",
      "execution_count": null,
      "metadata": {
        "id": "bNr2_AxFhCUb"
      },
      "outputs": [],
      "source": [
        "def predict(X):\n",
        "  return w * X + b"
      ]
    },
    {
      "cell_type": "markdown",
      "metadata": {
        "id": "dMMilS_FhQyw"
      },
      "source": [
        "Step 4: Define the Mean Squared Error (MSE) loss function"
      ]
    },
    {
      "cell_type": "code",
      "execution_count": null,
      "metadata": {
        "id": "mP509NCqhZiH"
      },
      "outputs": [],
      "source": [
        "def compute_loss(y_true, y_pred):\n",
        "  return np.mean((y_pred - y_true) ** 2)"
      ]
    },
    {
      "cell_type": "markdown",
      "metadata": {
        "id": "cI5svUK-ho-K"
      },
      "source": [
        "Step 5: Implement Gardient Descent"
      ]
    },
    {
      "cell_type": "code",
      "execution_count": null,
      "metadata": {
        "id": "QEOJP5l3hveT"
      },
      "outputs": [],
      "source": [
        "def gardient_descent(X, y, y_pred):\n",
        "  # Compute gardient\n",
        "  dw = np.mean(2 * (y_pred - y) * X) # Gardient with respect to w\n",
        "  db = np.mean(2 * (y_pred - y)) # Gardient with respect to b\n",
        "  return dw, db"
      ]
    },
    {
      "cell_type": "markdown",
      "metadata": {
        "id": "CwzPgm_FiRhL"
      },
      "source": [
        "Step 6: Training model"
      ]
    },
    {
      "cell_type": "code",
      "execution_count": null,
      "metadata": {
        "colab": {
          "base_uri": "https://localhost:8080/",
          "height": 1000
        },
        "id": "A4IWCLQfiVg-",
        "outputId": "94495334-c6b6-4fac-ece9-13096dcc5ae7"
      },
      "outputs": [],
      "source": [
        "loss_history = []\n",
        "\n",
        "for epoch in range(num_epochs):\n",
        "  # Step 6.1: Make predictions using the current parameters\n",
        "  y_pred = predict(X)\n",
        "\n",
        "  # Step 6.2: Compute loss\n",
        "  loss = compute_loss(y, y_pred)\n",
        "  loss_history.append(loss)\n",
        "\n",
        "  # Step 6.3: Compute the gardients\n",
        "  dw, db = gardient_descent(X, y, y_pred)\n",
        "\n",
        "  # Step 6.4: Update parameters using gardient descent\n",
        "  w -= learning_rate * dw\n",
        "  b -= learning_rate * db\n",
        "\n",
        "  # Print the progress\n",
        "  if epoch % 100 == 0:\n",
        "    print(f\"Epoch {epoch}, Loss: {loss:.4f}, w: {w[0]:.4f}, b: {b[0]:.4f}\")\n",
        "\n",
        "    # Plot model during training\n",
        "    plt.scatter(X, y, color='blue', label='Data points')\n",
        "    plt.plot(X, predict(X), color='red', label='Fitted Line')\n",
        "    plt.title('Linear Regression from Scratch')\n",
        "    plt.xlabel('Square Footage')\n",
        "    plt.ylabel('House Price')\n",
        "    plt.legend()\n",
        "    plt.show()"
      ]
    },
    {
      "cell_type": "markdown",
      "metadata": {
        "id": "6r4wg0n0j_e9"
      },
      "source": [
        "Step 7: Visualizing the results"
      ]
    },
    {
      "cell_type": "code",
      "execution_count": null,
      "metadata": {
        "colab": {
          "base_uri": "https://localhost:8080/",
          "height": 490
        },
        "id": "1HgvjPW0kHSL",
        "outputId": "0abd64cf-0c57-4ca6-9e76-be9096561150"
      },
      "outputs": [],
      "source": [
        "plt.scatter(X, y, color='blue', label='Data points')\n",
        "plt.plot(X, predict(X), color='red', label='Fitted Line')\n",
        "plt.title('Linear Regression from Scratch')\n",
        "plt.xlabel('Square Footage')\n",
        "plt.ylabel('House Price')"
      ]
    },
    {
      "cell_type": "markdown",
      "metadata": {
        "id": "pTpL8sZlkRh5"
      },
      "source": [
        "Step 8: Plot the loss over time"
      ]
    },
    {
      "cell_type": "code",
      "execution_count": null,
      "metadata": {
        "colab": {
          "base_uri": "https://localhost:8080/",
          "height": 508
        },
        "id": "5v4gj54JkWn7",
        "outputId": "05bc716d-721f-4526-f745-5dbcdc1d9c05"
      },
      "outputs": [],
      "source": [
        "plt.plot(range(num_epochs), loss_history, color='green', label='Loss')\n",
        "plt.title('Loss Over Iterations')\n",
        "plt.xlabel('Epochs')\n",
        "plt.ylabel('Mean Square Error (Loss)')\n",
        "plt.legend()\n",
        "plt.show()\n",
        "\n",
        "print(f\"Final weight (w): {w[0]:.4f}\")\n",
        "print(f\"Final bias (b): {b[0]:.4f}\")"
      ]
    }
  ],
  "metadata": {
    "colab": {
      "provenance": [],
      "toc_visible": true
    },
    "kernelspec": {
      "display_name": "Python 3",
      "name": "python3"
    },
    "language_info": {
      "name": "python"
    }
  },
  "nbformat": 4,
  "nbformat_minor": 0
}
